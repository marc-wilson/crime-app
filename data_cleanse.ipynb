{
 "cells": [
  {
   "cell_type": "code",
   "execution_count": 14,
   "metadata": {},
   "outputs": [],
   "source": [
    "# Import Libraries and Load Data\n",
    "import pandas as pd\n",
    "\n",
    "crime_df = pd.read_csv('data/crimes.csv')\n",
    "crime_df = crime_df.dropna()\n",
    "crime_df = crime_df[ crime_df['Year'] == 2018]"
   ]
  },
  {
   "cell_type": "code",
   "execution_count": 15,
   "metadata": {},
   "outputs": [
    {
     "name": "stdout",
     "output_type": "stream",
     "text": [
      "              ID                Date\n",
      "111434     23810 2018-02-04 01:00:00\n",
      "230458     23811 2018-02-05 01:00:00\n",
      "300168  11223630 2018-02-03 14:00:00\n",
      "385295     23812 2018-02-06 04:00:00\n",
      "484892     23813 2018-02-07 09:00:00\n"
     ]
    }
   ],
   "source": [
    "# Convert to DateTime, zero out minutes/seconds and drop columns\n",
    "\n",
    "crime_df['Date'] = pd.to_datetime(crime_df['Date'])\n",
    "crime_df['Date'] = crime_df['Date'].apply(lambda x: x.replace(minute=0, second=0))\n",
    "crime_df = crime_df.drop(['Year', 'Primary Type', 'Location', 'Description', 'Location Description', 'X Coordinate', 'Y Coordinate', 'Latitude', 'Longitude', 'District', 'Ward', 'Beat', 'Block', 'IUCR', 'FBI Code', 'Community Area', 'Domestic', 'Arrest', 'Updated On', 'Case Number'], axis=1)\n",
    "print(crime_df.head())"
   ]
  },
  {
   "cell_type": "code",
   "execution_count": 16,
   "metadata": {},
   "outputs": [
    {
     "name": "stdout",
     "output_type": "stream",
     "text": [
      "                  ID\n",
      "Date                \n",
      "2018-01-01  11340857\n",
      "2018-01-01  11192641\n",
      "2018-01-01  11192653\n",
      "2018-01-01  11353921\n",
      "2018-01-01  11353934\n"
     ]
    }
   ],
   "source": [
    "# Sort by date, create Date index, drop Date column\n",
    "\n",
    "crime_df = crime_df.sort_values(by=['Date'])\n",
    "crime_df = crime_df.set_index(pd.DatetimeIndex(crime_df['Date']))\n",
    "crime_df = crime_df.drop(['Date'], axis=1)\n",
    "print(crime_df.head())"
   ]
  },
  {
   "cell_type": "code",
   "execution_count": 19,
   "metadata": {},
   "outputs": [
    {
     "name": "stdout",
     "output_type": "stream",
     "text": [
      "                 Date  Count\n",
      "0 2018-01-01 00:00:00    194\n",
      "1 2018-01-01 01:00:00     47\n",
      "2 2018-01-01 02:00:00     42\n",
      "3 2018-01-01 03:00:00     34\n",
      "4 2018-01-01 04:00:00     17\n"
     ]
    }
   ],
   "source": [
    "# Group by date, get counts and drop unnamed column\n",
    "\n",
    "grouped_df = crime_df.groupby([crime_df.index])['ID'].count().reset_index(name='Count')\n",
    "#grouped_df = grouped_df.drop(grouped_df.columns[0])\n",
    "print(grouped_df.head())"
   ]
  },
  {
   "cell_type": "code",
   "execution_count": 6,
   "metadata": {},
   "outputs": [],
   "source": [
    "grouped_df.to_csv('data/grouped.csv', sep=',')"
   ]
  },
  {
   "cell_type": "code",
   "execution_count": null,
   "metadata": {},
   "outputs": [],
   "source": []
  }
 ],
 "metadata": {
  "kernelspec": {
   "display_name": "Python 3",
   "language": "python",
   "name": "python3"
  },
  "language_info": {
   "codemirror_mode": {
    "name": "ipython",
    "version": 3
   },
   "file_extension": ".py",
   "mimetype": "text/x-python",
   "name": "python",
   "nbconvert_exporter": "python",
   "pygments_lexer": "ipython3",
   "version": "3.7.0"
  }
 },
 "nbformat": 4,
 "nbformat_minor": 1
}
