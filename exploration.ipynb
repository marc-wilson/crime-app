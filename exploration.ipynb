{
 "cells": [
  {
   "cell_type": "code",
   "execution_count": 6,
   "metadata": {
    "collapsed": true
   },
   "outputs": [
    {
     "name": "stdout",
     "output_type": "stream",
     "text": [
      "         ID Case Number                    Date                   Block  IUCR  \\\n0  10000092    HY189866  03/18/2015 07:44:00 PM         047XX W OHIO ST  041A   \n1  10000094    HY190059  03/18/2015 11:00:00 PM  066XX S MARSHFIELD AVE  4625   \n2  10000095    HY190052  03/18/2015 10:45:00 PM   044XX S LAKE PARK AVE  0486   \n3  10000096    HY190054  03/18/2015 10:30:00 PM    051XX S MICHIGAN AVE  0460   \n4  10000097    HY189976  03/18/2015 09:00:00 PM        047XX W ADAMS ST  031A   \n\n    Primary Type              Description Location Description  Arrest  \\\n0        BATTERY      AGGRAVATED: HANDGUN               STREET   False   \n1  OTHER OFFENSE         PAROLE VIOLATION               STREET    True   \n2        BATTERY  DOMESTIC BATTERY SIMPLE            APARTMENT   False   \n3        BATTERY                   SIMPLE            APARTMENT   False   \n4        ROBBERY           ARMED: HANDGUN             SIDEWALK   False   \n\n   Domestic              ...                Ward  Community Area  FBI Code  \\\n0     False              ...                28.0            25.0       04B   \n1     False              ...                15.0            67.0        26   \n2      True              ...                 4.0            39.0       08B   \n3     False              ...                 3.0            40.0       08B   \n4     False              ...                28.0            25.0        03   \n\n   X Coordinate Y Coordinate  Year              Updated On   Latitude  \\\n0     1144606.0    1903566.0  2015  02/10/2018 03:50:01 PM  41.891399   \n1     1166468.0    1860715.0  2015  02/10/2018 03:50:01 PM  41.773372   \n2     1185075.0    1875622.0  2015  02/10/2018 03:50:01 PM  41.813861   \n3     1178033.0    1870804.0  2015  02/10/2018 03:50:01 PM  41.800802   \n4     1144920.0    1898709.0  2015  02/10/2018 03:50:01 PM  41.878065   \n\n   Longitude                       Location  \n0 -87.744385  (41.891398861, -87.744384567)  \n1 -87.665319  (41.773371528, -87.665319468)  \n2 -87.596643   (41.81386068, -87.596642837)  \n3 -87.622619  (41.800802415, -87.622619343)  \n4 -87.743354  (41.878064761, -87.743354013)  \n\n[5 rows x 22 columns]\n(6744984, 22)\n"
     ]
    }
   ],
   "source": [
    "import pandas as pd\n",
    "import matplotlib.pyplot as plt; plt.rcdefaults()\n",
    "import numpy as np\n",
    "import matplotlib.pyplot as plt\n",
    "\n",
    "crime_df = pd.read_csv('data/crimes.csv')\n",
    "print(crime_df.head())\n",
    "print(crime_df.shape)"
   ]
  },
  {
   "cell_type": "code",
   "execution_count": 7,
   "metadata": {},
   "outputs": [
    {
     "name": "stdout",
     "output_type": "stream",
     "text": [
      "[2001 2002 2003 2004 2005 2006 2007 2008 2009 2010 2011 2012 2013 2014\n 2015 2016 2017 2018]\n"
     ]
    },
    {
     "data": {
      "text/plain": [
       "Text(0.5, 1.0, 'Records by Year')"
      ]
     },
     "execution_count": 7,
     "metadata": {},
     "output_type": "execute_result"
    }
   ],
   "source": [
    "years = crime_df['Year'].unique()\n",
    "years.sort(axis=0)\n",
    "print(years)\n",
    "y_pos = np.arange(len(years))\n",
    "row_counts = []\n",
    "for y in years:\n",
    "    count = crime_df[ crime_df['Year'] == y].shape[0]\n",
    "    row_counts.append(count)\n",
    "plt.bar(y_pos, row_counts, align='center', alpha=0.5)\n",
    "plt.xticks(y_pos, years)\n",
    "plt.ylabel('Row Count')\n",
    "plt.title('Records by Year')\n"
   ]
  },
  {
   "cell_type": "code",
   "execution_count": null,
   "metadata": {},
   "outputs": [],
   "source": []
  }
 ],
 "metadata": {
  "kernelspec": {
   "display_name": "Python 2",
   "language": "python",
   "name": "python2"
  },
  "language_info": {
   "codemirror_mode": {
    "name": "ipython",
    "version": 2
   },
   "file_extension": ".py",
   "mimetype": "text/x-python",
   "name": "python",
   "nbconvert_exporter": "python",
   "pygments_lexer": "ipython2",
   "version": "2.7.6"
  }
 },
 "nbformat": 4,
 "nbformat_minor": 0
}
