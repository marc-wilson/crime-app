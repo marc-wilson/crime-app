{
 "cells": [
  {
   "cell_type": "code",
   "execution_count": 1,
   "metadata": {},
   "outputs": [
    {
     "name": "stdout",
     "output_type": "stream",
     "text": [
      "         ID Case Number                    Date                   Block  IUCR  \\\n",
      "0  10000092    HY189866  03/18/2015 07:44:00 PM         047XX W OHIO ST  041A   \n",
      "1  10000094    HY190059  03/18/2015 11:00:00 PM  066XX S MARSHFIELD AVE  4625   \n",
      "2  10000095    HY190052  03/18/2015 10:45:00 PM   044XX S LAKE PARK AVE  0486   \n",
      "3  10000096    HY190054  03/18/2015 10:30:00 PM    051XX S MICHIGAN AVE  0460   \n",
      "4  10000097    HY189976  03/18/2015 09:00:00 PM        047XX W ADAMS ST  031A   \n",
      "\n",
      "    Primary Type              Description Location Description  Arrest  \\\n",
      "0        BATTERY      AGGRAVATED: HANDGUN               STREET   False   \n",
      "1  OTHER OFFENSE         PAROLE VIOLATION               STREET    True   \n",
      "2        BATTERY  DOMESTIC BATTERY SIMPLE            APARTMENT   False   \n",
      "3        BATTERY                   SIMPLE            APARTMENT   False   \n",
      "4        ROBBERY           ARMED: HANDGUN             SIDEWALK   False   \n",
      "\n",
      "   Domestic              ...                Ward  Community Area  FBI Code  \\\n",
      "0     False              ...                28.0            25.0       04B   \n",
      "1     False              ...                15.0            67.0        26   \n",
      "2      True              ...                 4.0            39.0       08B   \n",
      "3     False              ...                 3.0            40.0       08B   \n",
      "4     False              ...                28.0            25.0        03   \n",
      "\n",
      "   X Coordinate Y Coordinate  Year              Updated On   Latitude  \\\n",
      "0     1144606.0    1903566.0  2015  02/10/2018 03:50:01 PM  41.891399   \n",
      "1     1166468.0    1860715.0  2015  02/10/2018 03:50:01 PM  41.773372   \n",
      "2     1185075.0    1875622.0  2015  02/10/2018 03:50:01 PM  41.813861   \n",
      "3     1178033.0    1870804.0  2015  02/10/2018 03:50:01 PM  41.800802   \n",
      "4     1144920.0    1898709.0  2015  02/10/2018 03:50:01 PM  41.878065   \n",
      "\n",
      "   Longitude                       Location  \n",
      "0 -87.744385  (41.891398861, -87.744384567)  \n",
      "1 -87.665319  (41.773371528, -87.665319468)  \n",
      "2 -87.596643   (41.81386068, -87.596642837)  \n",
      "3 -87.622619  (41.800802415, -87.622619343)  \n",
      "4 -87.743354  (41.878064761, -87.743354013)  \n",
      "\n",
      "[5 rows x 22 columns]\n",
      "(6744984, 22)\n"
     ]
    }
   ],
   "source": [
    "import pandas as pd\n",
    "import matplotlib.pyplot as plt; plt.rcdefaults()\n",
    "import numpy as np\n",
    "import matplotlib.pyplot as plt\n",
    "\n",
    "crime_df = pd.read_csv('data/crimes.csv')\n",
    "print(crime_df.head())\n",
    "print(crime_df.shape)"
   ]
  },
  {
   "cell_type": "code",
   "execution_count": 2,
   "metadata": {},
   "outputs": [
    {
     "name": "stdout",
     "output_type": "stream",
     "text": [
      "[2001 2002 2003 2004 2005 2006 2007 2008 2009 2010 2011 2012 2013 2014\n",
      " 2015 2016 2017 2018]\n"
     ]
    }
   ],
   "source": [
    "years = crime_df['Year'].unique()\n",
    "years.sort(axis=0)\n",
    "print(years)\n",
    "y_pos = np.arange(len(years))\n",
    "row_counts = []\n",
    "for y in years:\n",
    "    count = crime_df[ crime_df['Year'] == y].shape[0]\n",
    "    row_counts.append(count)\n",
    "plt.bar(y_pos, row_counts, align='center', alpha=0.5)\n",
    "plt.xticks(y_pos, years)\n",
    "plt.ylabel('Row Count')\n",
    "plt.title('Records by Year')\n",
    "plt.xticks(rotation=90)\n",
    "plt.show()\n"
   ]
  },
  {
   "cell_type": "code",
   "execution_count": 3,
   "metadata": {},
   "outputs": [
    {
     "name": "stdout",
     "output_type": "stream",
     "text": [
      "['BATTERY' 'OTHER OFFENSE' 'ROBBERY' 'NARCOTICS' 'CRIMINAL DAMAGE'\n",
      " 'WEAPONS VIOLATION' 'THEFT' 'BURGLARY' 'MOTOR VEHICLE THEFT'\n",
      " 'PUBLIC PEACE VIOLATION' 'DECEPTIVE PRACTICE' 'ASSAULT'\n",
      " 'CRIMINAL TRESPASS' 'CRIM SEXUAL ASSAULT'\n",
      " 'INTERFERENCE WITH PUBLIC OFFICER' 'ARSON' 'LIQUOR LAW VIOLATION'\n",
      " 'KIDNAPPING' 'SEX OFFENSE' 'OFFENSE INVOLVING CHILDREN' 'PROSTITUTION'\n",
      " 'HOMICIDE' 'GAMBLING' 'INTIMIDATION' 'STALKING' 'OBSCENITY'\n",
      " 'PUBLIC INDECENCY' 'HUMAN TRAFFICKING'\n",
      " 'CONCEALED CARRY LICENSE VIOLATION' 'OTHER NARCOTIC VIOLATION'\n",
      " 'NON - CRIMINAL' 'NON-CRIMINAL' 'RITUALISM'\n",
      " 'NON-CRIMINAL (SUBJECT SPECIFIED)' 'DOMESTIC VIOLENCE']\n"
     ]
    }
   ],
   "source": [
    "# Crime breakdown by Crime Type\n",
    "\n",
    "crime_types = crime_df['Primary Type'].unique()\n",
    "print(crime_types)\n",
    "y_pos_types = np.arange(len(crime_types))\n",
    "counts_types = []\n",
    "for t in crime_types:\n",
    "    count = crime_df[ crime_df['Primary Type'] == t].shape[0]\n",
    "    counts_types.append(count)\n",
    "plt.bar(y_pos_types, counts_types, align='center', alpha=0.5)\n",
    "plt.xticks(y_pos_types, crime_types)\n",
    "plt.ylabel('Row Count')\n",
    "plt.title('Type')\n",
    "plt.xticks(rotation=90)\n",
    "plt.show()"
   ]
  },
  {
   "cell_type": "code",
   "execution_count": 4,
   "metadata": {},
   "outputs": [
    {
     "name": "stdout",
     "output_type": "stream",
     "text": [
      "[11.  7.  2.  9.  5.  6.  4. 12. 15. 14.  1. 20. 10. 22.  8. 17.  3. 18.\n",
      " 16. 25. 24. 19. 31. nan 21.]\n"
     ]
    }
   ],
   "source": [
    "# Crime breakdown by District\n",
    "\n",
    "districts = crime_df['District'].unique()\n",
    "print(districts)\n",
    "y_pos_areas = np.arange(len(districts))\n",
    "counts_districts = []\n",
    "for t in districts:\n",
    "    count = crime_df[ crime_df['District'] == t].shape[0]\n",
    "    counts_districts.append(count)\n",
    "plt.bar(y_pos_areas, counts_districts, align='center', alpha=0.5)\n",
    "plt.xticks(y_pos_areas, districts)\n",
    "plt.ylabel('Row Count')\n",
    "plt.title('District')\n",
    "plt.xticks(rotation=90)\n",
    "plt.show()"
   ]
  },
  {
   "cell_type": "code",
   "execution_count": null,
   "metadata": {},
   "outputs": [],
   "source": [
    "# TODO Time Series (https://stackoverflow.com/questions/19079143/how-to-plot-time-series-in-python)"
   ]
  },
  {
   "cell_type": "code",
   "execution_count": 56,
   "metadata": {},
   "outputs": [
    {
     "name": "stderr",
     "output_type": "stream",
     "text": [
      "/Users/marc/PycharmProjects/crime-app/my_venv/lib/python3.7/site-packages/ipykernel_launcher.py:4: SettingWithCopyWarning: \n",
      "A value is trying to be set on a copy of a slice from a DataFrame.\n",
      "Try using .loc[row_indexer,col_indexer] = value instead\n",
      "\n",
      "See the caveats in the documentation: http://pandas.pydata.org/pandas-docs/stable/indexing.html#indexing-view-versus-copy\n",
      "  after removing the cwd from sys.path.\n",
      "/Users/marc/PycharmProjects/crime-app/my_venv/lib/python3.7/site-packages/ipykernel_launcher.py:5: SettingWithCopyWarning: \n",
      "A value is trying to be set on a copy of a slice from a DataFrame.\n",
      "Try using .loc[row_indexer,col_indexer] = value instead\n",
      "\n",
      "See the caveats in the documentation: http://pandas.pydata.org/pandas-docs/stable/indexing.html#indexing-view-versus-copy\n",
      "  \"\"\"\n"
     ]
    }
   ],
   "source": [
    "# Time series forecast of crimes in 2018\n",
    "# https://www.analyticsvidhya.com/blog/2018/02/time-series-forecasting-methods/\n",
    "cases_2018_df = crime_df[ crime_df['Year'] == 2018]\n",
    "cases_2018_df['Month'] = pd.to_datetime(cases_2018_df['Date']).dt.month\n",
    "cases_2018_df['Day'] = pd.to_datetime(cases_2018_df['Date']).dt.day\n",
    "jan_aug_cases = cases_2018_df[ cases_2018_df['Month'] < 9]\n",
    "sep_dec_cases = cases_2018_df[ cases_2018_df['Month'] > 8]\n",
    "# train = jan_aug_cases\n",
    "# test = sep_dec_cases\n",
    "\n",
    "cases_2018_df.index = pd.to_datetime(cases_2018_df['Date'])\n",
    "resmp_df = cases_2018_df.resample('D').mean()\n",
    "jan_aug_cases.index = pd.to_datetime(jan_aug_cases['Date'])\n",
    "jan_aug_cases = jan_aug_cases.resample('D').mean()\n",
    "sep_dec_cases.index = pd.to_datetime(sep_dec_cases['Date'])\n",
    "sep_dec_cases = sep_dec_cases.resample('D').mean()\n"
   ]
  },
  {
   "cell_type": "code",
   "execution_count": 58,
   "metadata": {},
   "outputs": [
    {
     "name": "stdout",
     "output_type": "stream",
     "text": [
      "                      ID    Arrest  Domestic         Beat   District  \\\n",
      "Date                                                                   \n",
      "2018-01-01  1.117202e+07  0.158151  0.221411  1182.891727  11.593674   \n",
      "2018-01-02  1.120073e+07  0.216216  0.153153  1120.520721  10.985586   \n",
      "2018-01-03  1.119998e+07  0.189716  0.122340  1182.824468  11.592199   \n",
      "2018-01-04  1.119943e+07  0.180905  0.164154  1118.624791  10.951424   \n",
      "2018-01-05  1.118284e+07  0.160850  0.160850  1180.614568  11.581184   \n",
      "\n",
      "                 Ward  Community Area  X Coordinate  Y Coordinate    Year  \\\n",
      "Date                                                                        \n",
      "2018-01-01  23.712895       35.899027  1.165023e+06  1.886621e+06  2018.0   \n",
      "2018-01-02  23.136937       36.160360  1.165078e+06  1.886307e+06  2018.0   \n",
      "2018-01-03  24.196809       36.606383  1.164810e+06  1.887236e+06  2018.0   \n",
      "2018-01-04  22.768844       36.217755  1.164461e+06  1.887052e+06  2018.0   \n",
      "2018-01-05  24.298938       36.285281  1.164333e+06  1.889092e+06  2018.0   \n",
      "\n",
      "             Latitude  Longitude  Month  Day  \n",
      "Date                                          \n",
      "2018-01-01  41.844474 -87.669930    1.0  1.0  \n",
      "2018-01-02  41.843614 -87.669731    1.0  2.0  \n",
      "2018-01-03  41.846167 -87.670694    1.0  3.0  \n",
      "2018-01-04  41.845669 -87.671976    1.0  4.0  \n",
      "2018-01-05  41.851271 -87.672386    1.0  5.0  \n"
     ]
    }
   ],
   "source": [
    "# https://stackoverflow.com/questions/15411158/pandas-countdistinct-equivalent\n",
    "print(jan_aug_cases.head())\n",
    "\n",
    "jan_aug_cases['Month'].plot(figsize=(15, 8), title='Test', fontsize=14)\n",
    "sep_dec_cases['Month'].plot(figsize=(15, 8), title='Test', fontsize=14)\n",
    "plt.show()\n"
   ]
  },
  {
   "cell_type": "code",
   "execution_count": null,
   "metadata": {},
   "outputs": [],
   "source": []
  }
 ],
 "metadata": {
  "kernelspec": {
   "display_name": "Python 3",
   "language": "python",
   "name": "python3"
  },
  "language_info": {
   "codemirror_mode": {
    "name": "ipython",
    "version": 3
   },
   "file_extension": ".py",
   "mimetype": "text/x-python",
   "name": "python",
   "nbconvert_exporter": "python",
   "pygments_lexer": "ipython3",
   "version": "3.7.0"
  }
 },
 "nbformat": 4,
 "nbformat_minor": 1
}
