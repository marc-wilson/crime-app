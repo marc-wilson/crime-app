{
 "cells": [
  {
   "cell_type": "code",
   "execution_count": 1,
   "metadata": {},
   "outputs": [],
   "source": [
    "# Import Libraries and Load Data\n",
    "import pandas as pd\n",
    "\n",
    "crime_df = pd.read_csv('data/crimes.csv')\n",
    "crime_df = crime_df.dropna()\n",
    "# crime_df = crime_df[ crime_df['Year'] == 2018]"
   ]
  },
  {
   "cell_type": "code",
   "execution_count": 2,
   "metadata": {},
   "outputs": [
    {
     "name": "stdout",
     "output_type": "stream",
     "text": [
      "         ID                Date\n",
      "0  10000092 2015-03-18 19:00:00\n",
      "1  10000094 2015-03-18 23:00:00\n",
      "2  10000095 2015-03-18 22:00:00\n",
      "3  10000096 2015-03-18 22:00:00\n",
      "4  10000097 2015-03-18 21:00:00\n"
     ]
    }
   ],
   "source": [
    "# Convert to DateTime, zero out minutes/seconds and drop columns\n",
    "\n",
    "crime_df['Date'] = pd.to_datetime(crime_df['Date'])\n",
    "crime_df['Date'] = crime_df['Date'].apply(lambda x: x.replace(minute=0, second=0))\n",
    "crime_df = crime_df.drop(['Year', 'Primary Type', 'Location', 'Description', 'Location Description', 'X Coordinate', 'Y Coordinate', 'Latitude', 'Longitude', 'District', 'Ward', 'Beat', 'Block', 'IUCR', 'FBI Code', 'Community Area', 'Domestic', 'Arrest', 'Updated On', 'Case Number'], axis=1)\n",
    "print(crime_df.head())"
   ]
  },
  {
   "cell_type": "code",
   "execution_count": 3,
   "metadata": {},
   "outputs": [
    {
     "name": "stdout",
     "output_type": "stream",
     "text": [
      "                 ID\n",
      "Date               \n",
      "2001-01-01  3838910\n",
      "2001-01-01  4498285\n",
      "2001-01-01  2620877\n",
      "2001-01-01  4521568\n",
      "2001-01-01  3214584\n"
     ]
    }
   ],
   "source": [
    "# Sort by date, create Date index, drop Date column\n",
    "\n",
    "crime_df = crime_df.sort_values(by=['Date'])\n",
    "crime_df = crime_df.set_index(pd.DatetimeIndex(crime_df['Date']))\n",
    "crime_df = crime_df.drop(['Date'], axis=1)\n",
    "print(crime_df.head())"
   ]
  },
  {
   "cell_type": "code",
   "execution_count": 4,
   "metadata": {},
   "outputs": [
    {
     "name": "stdout",
     "output_type": "stream",
     "text": [
      "                 Date  Count\n",
      "0 2001-01-01 00:00:00    168\n",
      "1 2001-01-01 01:00:00      3\n",
      "2 2001-01-01 02:00:00      1\n",
      "3 2001-01-01 03:00:00      1\n",
      "4 2001-01-01 07:00:00      2\n"
     ]
    }
   ],
   "source": [
    "# Group by date, get counts and drop unnamed column\n",
    "\n",
    "grouped_df = crime_df.groupby([crime_df.index])['ID'].count().reset_index(name='Count')\n",
    "#grouped_df = grouped_df.drop(grouped_df.columns[0])\n",
    "print(grouped_df.head())"
   ]
  },
  {
   "cell_type": "code",
   "execution_count": 5,
   "metadata": {},
   "outputs": [],
   "source": [
    "grouped_df.to_csv('data/crimes_by_hour.csv', sep=',')"
   ]
  },
  {
   "cell_type": "code",
   "execution_count": null,
   "metadata": {},
   "outputs": [],
   "source": []
  }
 ],
 "metadata": {
  "kernelspec": {
   "display_name": "Python 3",
   "language": "python",
   "name": "python3"
  },
  "language_info": {
   "codemirror_mode": {
    "name": "ipython",
    "version": 3
   },
   "file_extension": ".py",
   "mimetype": "text/x-python",
   "name": "python",
   "nbconvert_exporter": "python",
   "pygments_lexer": "ipython3",
   "version": "3.7.0"
  }
 },
 "nbformat": 4,
 "nbformat_minor": 1
}
